{
 "cells": [
  {
   "cell_type": "markdown",
   "id": "727fbb13-c6b5-401b-a764-423d64056cff",
   "metadata": {},
   "source": [
    "# Python for Data Science:\n",
    "## Variables\n",
    "### Definition:\r\n",
    "In Python, variables are references to objects in memory. They act as symbolic names or placeholders for data that can be changed during program execution\n",
    "Variables in Python are like containers that hold information. Imagine them as labeled boxes where you can keep different things.\n",
    "### Example:\r\n",
    "Imagine you have a box labeled \"number_of_cookies.\" You can put different numbers of cookies in this box at different times. So, if you have 5 cookies, you put 5 in the box. Later, if you eat 2 cookies, you update the number in the box to 3. That box is your variable in Python.."
   ]
  },
  {
   "cell_type": "code",
   "execution_count": 1,
   "id": "456f5c25-ffe9-496c-b9c5-ec4a3c3d5bd5",
   "metadata": {},
   "outputs": [
    {
     "name": "stdout",
     "output_type": "stream",
     "text": [
      "My name is Python and I am 25 years old.\n"
     ]
    }
   ],
   "source": [
    "# Assigning variables and printing their values\n",
    "name = \"Python\"\n",
    "age = 25\n",
    "print(\"My name is\", name, \"and I am\", age, \"years old.\")"
   ]
  },
  {
   "cell_type": "code",
   "execution_count": 2,
   "id": "53568b98-9fe4-4c0d-944a-c209af0e1a90",
   "metadata": {},
   "outputs": [
    {
     "name": "stdout",
     "output_type": "stream",
     "text": [
      "The area of the rectangle is: 15\n"
     ]
    }
   ],
   "source": [
    "# Using variables in calculations\n",
    "length = 5\n",
    "width = 3\n",
    "area = length * width\n",
    "print(\"The area of the rectangle is:\", area)"
   ]
  },
  {
   "cell_type": "code",
   "execution_count": 3,
   "id": "7626fb29-3b09-42b6-b8b8-abc813a415bb",
   "metadata": {},
   "outputs": [
    {
     "name": "stdout",
     "output_type": "stream",
     "text": [
      "Volume of the cylinder: 785.3981633974483\n",
      "Surface area of the cylinder: 471.23889803846896\n"
     ]
    }
   ],
   "source": [
    "# Variables in a more complex program\n",
    "import math\n",
    "\n",
    "# Define constants\n",
    "radius = 5\n",
    "height = 10\n",
    "\n",
    "# Calculate volume of a cylinder\n",
    "volume = math.pi * radius ** 2 * height\n",
    "\n",
    "# Calculate surface area of the cylinder\n",
    "base_area = math.pi * radius ** 2\n",
    "lateral_area = 2 * math.pi * radius * height\n",
    "total_surface_area = 2 * base_area + lateral_area\n",
    "\n",
    "# Output the results\n",
    "print(\"Volume of the cylinder:\", volume)\n",
    "print(\"Surface area of the cylinder:\", total_surface_area)\n"
   ]
  },
  {
   "cell_type": "markdown",
   "id": "688ff31f-210c-427e-b92f-7f1f054cf5af",
   "metadata": {},
   "source": [
    "## Numbers\n",
    "### Definition:\n",
    "In Python, numbers can be integers (whole numbers) or floating-point numbers (numbers with decimal points). \n",
    "They are fundamental data types used for mathematical operations and calculations.\n",
    "Numbers in Python are like blocks you use to count or measure things. They can be whole numbers, like how many candies you have, or they can be parts of numbers, like how much of a cake you've eaten.\n",
    "### Example:\r\n",
    "Consider two variables, num_of_candies and num_of_people. These variables can hold integer values, like 5 and 2 respectively. You can perform arithmetic operations on these numbers, such as addition, subtraction, multiplication, or division, to manipulate and analyze data."
   ]
  },
  {
   "cell_type": "code",
   "execution_count": 4,
   "id": "b19f230b-8ddf-4e5c-bc62-0d8511b851c5",
   "metadata": {},
   "outputs": [
    {
     "name": "stdout",
     "output_type": "stream",
     "text": [
      "I have 5 candies.\n",
      "The value of pi is: 3.14\n",
      "The sum of 10 and 5 is: 15\n"
     ]
    }
   ],
   "source": [
    "#  Assigning integers and printing their values\n",
    "num_of_candies = 5\n",
    "print(\"I have\", num_of_candies, \"candies.\")\n",
    "\n",
    "# Assigning floating-point numbers and printing their values\n",
    "pi = 3.14\n",
    "print(\"The value of pi is:\", pi)\n",
    "\n",
    "# Performing basic arithmetic operations\n",
    "sum_of_numbers = 10 + 5\n",
    "print(\"The sum of 10 and 5 is:\", sum_of_numbers)\n"
   ]
  },
  {
   "cell_type": "code",
   "execution_count": 5,
   "id": "a832dd35-ddde-4bd0-8bf4-9843b1b0c51d",
   "metadata": {},
   "outputs": [
    {
     "name": "stdout",
     "output_type": "stream",
     "text": [
      "The area of the triangle is: 25.0\n",
      "The circumference of the circle is: 43.982297150257104\n",
      "The sum of 1/3 and 2/3 is: 1\n"
     ]
    }
   ],
   "source": [
    "# Using numbers in more complex calculations\n",
    "base = 10\n",
    "height = 5\n",
    "area_of_triangle = 0.5 * base * height\n",
    "print(\"The area of the triangle is:\", area_of_triangle)\n",
    "\n",
    "# Using the math module for advanced calculations\n",
    "import math\n",
    "radius = 7\n",
    "circumference = 2 * math.pi * radius\n",
    "print(\"The circumference of the circle is:\", circumference)\n",
    "\n",
    "# Working with fractions using the fractions module\n",
    "from fractions import Fraction\n",
    "fraction1 = Fraction(1, 3)\n",
    "fraction2 = Fraction(2, 3)\n",
    "sum_of_fractions = fraction1 + fraction2\n",
    "print(\"The sum of 1/3 and 2/3 is:\", sum_of_fractions)\n"
   ]
  },
  {
   "cell_type": "markdown",
   "id": "32eaa22e-8b62-4af0-aede-165711160776",
   "metadata": {},
   "source": [
    "# Strings\n",
    "### Definition:\n",
    "In Python, strings are sequences of characters, enclosed within either single quotes (' ') or double quotes (\" \"). \n",
    "They can contain letters, numbers, symbols, and even special characters like newline (\\n) or tab (\\t).\n",
    "Strings in Python are like strings of beads that hold letters, numbers, or symbols. They help us keep words, sentences, or any text we want to work with.\n",
    "\n",
    "### Example:\n",
    "Imagine you have a string of beads where each bead has a letter written on it. If you put the beads together, they form words. For example, \n",
    "if you have beads with the letters \"H\", \"E\", \"L\", \"L\", \"O\", you can put them together to spell the word \"HELLO.\""
   ]
  },
  {
   "cell_type": "code",
   "execution_count": 6,
   "id": "b68ad8e0-9948-4184-9ae9-d3930f84e045",
   "metadata": {},
   "outputs": [
    {
     "name": "stdout",
     "output_type": "stream",
     "text": [
      "Hello, World!\n"
     ]
    }
   ],
   "source": [
    "# Assigning a string and printing its value\n",
    "message = \"Hello, World!\"\n",
    "print(message)\n"
   ]
  },
  {
   "cell_type": "code",
   "execution_count": 7,
   "id": "9e1837ab-f7e8-4215-ae17-4b4ff711c981",
   "metadata": {},
   "outputs": [
    {
     "name": "stdout",
     "output_type": "stream",
     "text": [
      "Hello, Python!\n"
     ]
    }
   ],
   "source": [
    "# Using string concatenation and string methods\n",
    "name = \"Python\"\n",
    "greeting = \"Hello, \" + name + \"!\"\n",
    "print(greeting)\n"
   ]
  },
  {
   "cell_type": "code",
   "execution_count": 9,
   "id": "a7caa60a-1d43-4fd9-a5e2-118fa8d07633",
   "metadata": {},
   "outputs": [
    {
     "name": "stdout",
     "output_type": "stream",
     "text": [
      "Reversed Text: .egaugnal gnimmargorp lufrewop a si nohtyP\n",
      "Number of Words: 6\n"
     ]
    }
   ],
   "source": [
    "#Manipulating strings with advanced string methods\n",
    "text = \"Python is a powerful programming language.\"\n",
    "reversed_text = text[::-1]  # Reverse the string\n",
    "word_count = len(text.split())  # Count the number of words\n",
    "print(\"Reversed Text:\", reversed_text)\n",
    "print(\"Number of Words:\", word_count)"
   ]
  },
  {
   "cell_type": "markdown",
   "id": "86621561-0f5b-4ab3-83c2-3c995ee47c12",
   "metadata": {},
   "source": [
    "## Lists\r\n",
    "\r\n",
    "### Definition:\r\n",
    "Lists in Python are ordered collections of items that can hold any type of data, such as numbers, strings, or even other lists. They are mutable, meaning you can change, add, or remove items from them.\r\n",
    "\r\n",
    "Lists in Python are like treasure chests where you can keep lots of items. You can put toys, books, or anything you like in a list. Imagine you have a list called \"favorite_colors\" where you keep all your favorite colors. You can add new colors to the list, remove colors you don't like anymore, or even change the order of colors.\r\n",
    "\r\n",
    "### Example:\r\n",
    "Consider a list called shopping_list that contains items to buy from the store. You can append new items to the list, remove items that you've already bought, or modify existing items if you change your mind.\r\n",
    "."
   ]
  },
  {
   "cell_type": "code",
   "execution_count": 18,
   "id": "be8ce7ce-ad6f-4e22-89ef-9dcf6c70a82e",
   "metadata": {},
   "outputs": [
    {
     "name": "stdout",
     "output_type": "stream",
     "text": [
      "['red', 'blue', 'green']\n"
     ]
    }
   ],
   "source": [
    "# Creating a list and printing its elements\n",
    "colors = [\"red\", \"blue\", \"green\"]\n",
    "print(colors)"
   ]
  },
  {
   "cell_type": "code",
   "execution_count": 19,
   "id": "50dff510-6502-4aea-bac8-553b5cfc5def",
   "metadata": {},
   "outputs": [
    {
     "name": "stdout",
     "output_type": "stream",
     "text": [
      "[1, 2, 4, 5, 6]\n"
     ]
    }
   ],
   "source": [
    "# Modifying a list using list methods\n",
    "numbers = [1, 2, 3, 4, 5]\n",
    "numbers.append(6)\n",
    "numbers.remove(3)\n",
    "print(numbers)\n"
   ]
  },
  {
   "cell_type": "markdown",
   "id": "db9a7a57-0a8c-4498-971d-b9d32b8f03db",
   "metadata": {},
   "source": [
    "## Tuples\n",
    "\n",
    "### Definition:\n",
    "Tuples in Python are ordered collections of elements, similar to lists, but they are immutable, meaning once created, you can't change, add, or remove elements from them. Tuples are useful for representing fixed collections of items that should not be modified . In Simple Terms, Tuples in Python are like secret scrolls that hold important messages. Once written, you can't change what's written on them.\n",
    "\n",
    "### Example:\n",
    "\n",
    "you have a tuple called \"coordinates\" that holds the latitude and longitude of a secret treasure location. You can share this tuple with your friends, but they can't change the coordinates without your permission.\n",
    "\n",
    "Consider a tuple called `dimensions` that represents the length, width, and height of a box. You can't modify these dimensions once the tuple is created, making it useful for representing fixed properties of the object.\n"
   ]
  },
  {
   "cell_type": "code",
   "execution_count": 31,
   "id": "5634f9dd-b769-479a-b276-64c1dcee27f1",
   "metadata": {},
   "outputs": [
    {
     "name": "stdout",
     "output_type": "stream",
     "text": [
      "apple\n"
     ]
    }
   ],
   "source": [
    "fruit_basket = (\"apple\", \"banana\", \"orange\", \"grapes\")\n",
    "print(fruit_basket[0]) "
   ]
  },
  {
   "cell_type": "code",
   "execution_count": 32,
   "id": "5b8c5881-f228-4610-989e-94ccc3a2fe23",
   "metadata": {},
   "outputs": [
    {
     "name": "stdout",
     "output_type": "stream",
     "text": [
      "Length: 10\n",
      "Width: 20\n",
      "Height: 30\n"
     ]
    }
   ],
   "source": [
    "dimensions = (10, 20, 30)\n",
    "print(\"Length:\", dimensions[0])\n",
    "print(\"Width:\", dimensions[1]) \n",
    "print(\"Height:\", dimensions[2])  \n"
   ]
  },
  {
   "cell_type": "markdown",
   "id": "ae5bebd9-f8de-4825-9bde-8ae1cb4a90ba",
   "metadata": {},
   "source": [
    "## Dictionaries\n",
    "\n",
    "### Definition:\n",
    "Dictionaries in Python are unordered collections of key-value pairs. They are mutable and can hold any type of data as values, including other dictionaries. Dictionaries are often used for mapping and storing data in a structured way.In simple term Dictionaries are like magical spell books where each word has its own secret meaning. You can find the meaning of any word quickly by looking it up in the dictionary. Imagine you have a dictionary called \"english_to_french\" where you keep English words as keys and their corresponding French translations as values. You can easily look up the French translation of any English word.\n",
    "\n",
    "## Example\n",
    "Consider a dictionary called superheroes where the keys are superhero names and the values are their powers or like Consider a dictionary called employee_salary where the keys are employee IDs and the values are their salaries. You can update an employee's salary or add a new employee to the dictionary as given in the below examples"
   ]
  },
  {
   "cell_type": "code",
   "execution_count": 23,
   "id": "56227d4d-8873-473a-9dd0-4327286beede",
   "metadata": {},
   "outputs": [
    {
     "name": "stdout",
     "output_type": "stream",
     "text": [
      "Flight\n"
     ]
    }
   ],
   "source": [
    "superheroes = {\"Superman\": \"Flight\", \"Spiderman\": \"Web-slinging\", \"Wonder Woman\": \"Super strength\"}\n",
    "print(superheroes[\"Superman\"])"
   ]
  },
  {
   "cell_type": "code",
   "execution_count": 22,
   "id": "f5d99c64-40e9-4e41-b072-a720a29575a1",
   "metadata": {},
   "outputs": [
    {
     "name": "stdout",
     "output_type": "stream",
     "text": [
      "{'E001': 50000, 'E002': 65000, 'E003': 55000, 'E004': 70000}\n"
     ]
    }
   ],
   "source": [
    "employee_salary = {\"E001\": 50000, \"E002\": 60000, \"E003\": 55000}\n",
    "employee_salary[\"E002\"] = 65000  # Update salary for employee E002\n",
    "employee_salary[\"E004\"] = 70000  # Add new employee E004\n",
    "print(employee_salary)"
   ]
  },
  {
   "cell_type": "markdown",
   "id": "d816de76-339d-4ede-835c-9949ca9cca58",
   "metadata": {},
   "source": [
    "## Sets\r\n",
    "\r\n",
    "### Definition:\r\n",
    "Sets in Python are unordered collections of unique elements. They are mutable but only allow immutable elements like numbers, strings, or tuples. Sets are useful for tasks like removing duplicates from a list or performing set operations like union, intersection, and difference.\r\n",
    "\r\n",
    "In simple terms, Sets in Python are like magic bags where you keep special items. Each item in the bag is unique, so you never have duplicates. Imagine you have a set called \"favorite_numbers\" where you keep all your favorite numbers. You can add new numbers to the set, but if you try to add a number that's already in the set, it won't change anything because sets only keep unique items.\r\n",
    "\r\n",
    "### Example:\r\n",
    "Consider a set called `favorite_toys` where you store the names of your favorior Consider two sets, set1 and set2, containing unique elements. You can perform set operations like union, intersection, or difference to combine, find common elements, or remove elements between sets as given in the below examplesutput: True\r\n"
   ]
  },
  {
   "cell_type": "code",
   "execution_count": 25,
   "id": "4a230233-b746-4fc1-b1fc-140cec28a2f1",
   "metadata": {},
   "outputs": [
    {
     "name": "stdout",
     "output_type": "stream",
     "text": [
      "True\n"
     ]
    }
   ],
   "source": [
    "favorite_toys = {\"Barbie\", \"LEGO\", \"Hot Wheels\", \"Teddy Bear\"}\n",
    "print(\"LEGO\" in favorite_toys)"
   ]
  },
  {
   "cell_type": "code",
   "execution_count": 26,
   "id": "71022087-39ba-411b-92fb-861d9a0266a6",
   "metadata": {},
   "outputs": [
    {
     "name": "stdout",
     "output_type": "stream",
     "text": [
      "Union Set: {1, 2, 3, 4, 5, 6, 7, 8}\n",
      "Intersection Set: {4, 5}\n",
      "Difference Set: {1, 2, 3}\n"
     ]
    }
   ],
   "source": [
    "set1 = {1, 2, 3, 4, 5}\n",
    "set2 = {4, 5, 6, 7, 8}\n",
    "union_set = set1.union(set2)\n",
    "intersection_set = set1.intersection(set2)\n",
    "difference_set = set1.difference(set2)\n",
    "print(\"Union Set:\", union_set)\n",
    "print(\"Intersection Set:\", intersection_set)\n",
    "print(\"Difference Set:\", difference_set)"
   ]
  },
  {
   "cell_type": "markdown",
   "id": "2c21990d-d999-4a88-9718-f06e2496870e",
   "metadata": {},
   "source": [
    "## If Condition\n",
    "\n",
    "### Definition:\n",
    "In Python, an `if` condition is used to execute a block of code only if a specified condition is true. It allows you to make decisions in your program based on certain conditions. If the condition evaluates to true, the code block under the `if` statement is executed; otherwise, it is skipped.\n",
    "\n",
    "Using an `if` condition in Python is like having a decision-making machine. If a certain condition is met (like the weather being sunny), you might decide to go outside and play. Otherwise, you might stay indoors and read a book.\n",
    "\n",
    "### Example:\n",
    "\n",
    "In simple terms, an if condition is like having a set of rules that you follow to make decisions( like going to concert at night. You check if a certain condition is true (Time concert begins 10PM), and if it is, you do something specific (you go ). If the condition is not true(Quit) , you might do something else or wait until the condition becomes true.\n",
    "\n",
    "So, in summary:\n",
    "\n",
    "An if condition helps you make decisions based on certain conditions.\n",
    "You check if a condition is true, and if it is, you do something specific.\n",
    "If the condition is not true, you might do something else or wait until it becomes true.\r\n"
   ]
  },
  {
   "cell_type": "code",
   "execution_count": 37,
   "id": "2ac31ef6-1b9c-4b06-88d4-ca2afc614295",
   "metadata": {},
   "outputs": [
    {
     "name": "stdout",
     "output_type": "stream",
     "text": [
      "The number is negative\n"
     ]
    }
   ],
   "source": [
    "# Checking if a number is positive, negative, or zero:\n",
    "num = -5\n",
    "if num > 0:\n",
    "    print(\"The number is positive\")\n",
    "elif num < 0:\n",
    "    print(\"The number is negative\")\n",
    "else:\n",
    "    print(\"The number is zero\")"
   ]
  },
  {
   "cell_type": "code",
   "execution_count": 39,
   "id": "b167fa4e-0c0e-4c32-9e57-9f7b4b54f3f6",
   "metadata": {},
   "outputs": [
    {
     "name": "stdout",
     "output_type": "stream",
     "text": [
      "You are not eligible for a senior citizen discount.\n"
     ]
    }
   ],
   "source": [
    "# Determining if a person is eligible for a discount based on their age:\n",
    "age = 25\n",
    "discount_age = 60\n",
    "if age >= discount_age:\n",
    "    print(\"You are eligible for a senior citizen discount!\")\n",
    "else:\n",
    "    print(\"You are not eligible for a senior citizen discount.\")"
   ]
  },
  {
   "cell_type": "code",
   "execution_count": 41,
   "id": "c81882f0-c37a-4412-bfa4-cae802e61898",
   "metadata": {},
   "outputs": [
    {
     "name": "stdout",
     "output_type": "stream",
     "text": [
      "Password is strong\n"
     ]
    }
   ],
   "source": [
    "#Checking if a password meets the criteria for strength:\n",
    "password = \"StrongPassword123\"\n",
    "if len(password) >= 6 and any(char.isdigit() for char in password) and any(char.isupper() for char in password):\n",
    "    print(\"Password is strong\")\n",
    "else:\n",
    "    print(\"Password is weak\")"
   ]
  },
  {
   "cell_type": "markdown",
   "id": "2c2335f7-3bf6-4a4e-a8ee-2135690b5055",
   "metadata": {},
   "source": [
    "## For Loop\n",
    "\n",
    "### Definition:\n",
    "In Python, a `for` loop is used to iterate over a sequence (such as a list, tuple, or string) and perform an action on each item in the sequence. It allows you to execute a block of code repeatedly for each item in the sequence.\n",
    "\n",
    "Using a `for` loop in Python is like having a magic wand that lets you perform a task on each item in a collection of things. You wave the wand, and it goes through each item, one by one, allowing you to do something with each one.\n",
    "\n",
    "### Example:\n",
    "\n",
    "In programming, you might have a list of filenames, and you need to process each file one by one. A `for` loop is like going through the list of filenames, opening each file, performing some operations, and then moving on to the next file until you've processed all the files.Imagine you have a box of toys, and you want to play with each toy one by one. A `for` loop is like picking up each toy from the box, playing with it, and then moving on to the next toy until you've played with all the toys.\n"
   ]
  },
  {
   "cell_type": "code",
   "execution_count": 42,
   "id": "3438e759-1302-4383-a46d-94aa5a53b0fd",
   "metadata": {},
   "outputs": [
    {
     "name": "stdout",
     "output_type": "stream",
     "text": [
      "apple\n",
      "banana\n",
      "orange\n"
     ]
    }
   ],
   "source": [
    "fruits = [\"apple\", \"banana\", \"orange\"]\n",
    "for fruit in fruits:\n",
    "    print(fruit)"
   ]
  },
  {
   "cell_type": "code",
   "execution_count": 44,
   "id": "3f97d032-ca8c-4c4a-a6bc-c7bbcfc2b566",
   "metadata": {},
   "outputs": [
    {
     "name": "stdout",
     "output_type": "stream",
     "text": [
      "Total price: 100\n"
     ]
    }
   ],
   "source": [
    "#Calculate the total price of items in a shopping cart.\n",
    "prices = [10, 20, 30, 40]\n",
    "total = 0\n",
    "for price in prices:\n",
    "    total += price\n",
    "print(\"Total price:\", total)"
   ]
  },
  {
   "cell_type": "code",
   "execution_count": 47,
   "id": "4d0db0f8-db8c-4ddd-8a69-fa5b519c56f9",
   "metadata": {},
   "outputs": [
    {
     "name": "stdout",
     "output_type": "stream",
     "text": [
      "Prime numbers between 1 and 100: [2, 3, 5, 7, 11, 13, 17, 19, 23, 29, 31, 37, 41, 43, 47, 53, 59, 61, 67, 71, 73, 79, 83, 89, 97]\n"
     ]
    }
   ],
   "source": [
    "#Find and print all prime numbers between 1 and 100\n",
    "primes = []\n",
    "\n",
    "for num in range(2, 101):\n",
    "    is_prime = True\n",
    "\n",
    "    for i in range(2, num):\n",
    "        if num % i == 0:\n",
    "            is_prime = False\n",
    "            break\n",
    "\n",
    "    if is_prime:\n",
    "        primes.append(num)\n",
    "\n",
    "print(\"Prime numbers between 1 and 100:\", primes)"
   ]
  },
  {
   "cell_type": "markdown",
   "id": "70520393-c4b0-4ade-af85-a4768c779a54",
   "metadata": {},
   "source": [
    "## Functions\n",
    "\n",
    "### Definition:\n",
    "In Python, a function is a block of reusable code that performs a specific task. Functions help in organizing code into manageable pieces and promote code reusability. They accept input arguments, perform operations, and return results. Functions are defined using the `def` keyword followed by the function name, input parameters (if any), and a block of code.\n",
    "\n",
    "### Example:\n",
    "In programming, you might have a task that you need to perform multiple times with different inputs. A function is like writing a piece of code to perform that task once and then using it whenever you need to. For example, you could write a function to calculate the square of a number, and then use it to calculate squares of different numbers throughout your program.Imagine you have a magical recipe book where each recipe tells you how to make a different dish. A function is like following one of these recipes to make a dish. You give the recipe some ingredients (input), it performs the cooking steps (operations), and finally, it gives you the finished dish (output).\n"
   ]
  },
  {
   "cell_type": "code",
   "execution_count": 48,
   "id": "b783d961-51b2-4995-9584-513a7aaa094d",
   "metadata": {},
   "outputs": [
    {
     "name": "stdout",
     "output_type": "stream",
     "text": [
      "Square of 5: 25\n"
     ]
    }
   ],
   "source": [
    "# Function to calculate the square of a number\n",
    "def square(num):\n",
    "    return num ** 2\n",
    "\n",
    "# Using the function\n",
    "result = square(5)\n",
    "print(\"Square of 5:\", result)"
   ]
  },
  {
   "cell_type": "code",
   "execution_count": 50,
   "id": "9d094a3d-c24d-4f14-a8cc-b9957115c2ec",
   "metadata": {},
   "outputs": [
    {
     "name": "stdout",
     "output_type": "stream",
     "text": [
      "The factorial of 4 is: 24\n"
     ]
    }
   ],
   "source": [
    "# Function to calculate the factorial of a number\n",
    "def factorial(n):\n",
    "    if n == 0:\n",
    "        return 1\n",
    "    else:\n",
    "        return n * factorial(n - 1)\n",
    "\n",
    "# Using the function\n",
    "number = 4\n",
    "fact = factorial(number)\n",
    "print(f\"The factorial of {number} is: {fact}\")"
   ]
  },
  {
   "cell_type": "markdown",
   "id": "93dc8b18-3e25-40db-b933-96af7f7fc2bc",
   "metadata": {},
   "source": [
    "## Reading Files\n",
    "\n",
    "### Definition:\n",
    "Reading files in Python refers to the process of accessing data stored in files and bringing it into the Python environment for further processing. This data can be text, binary, or any other format supported by Python. Python provides built-in functions and methods for reading files, making it easy to work with files stored on the disk.\n",
    "\n",
    "### Example:\n",
    "In programming, you might have data stored in files such as text files, CSV files, or JSON files. Reading files in Python is like opening these files, accessing the data inside, and loading it into your Python program for analysis, processing, or manipulation.Imagine you have a storybook with many interesting stories written in it. Reading a file in Python is like opening this storybook and reading the stories one by one. You start at the beginning, read through each page, and imagine the characters and scenes described in the stories.\n"
   ]
  },
  {
   "cell_type": "code",
   "execution_count": 73,
   "id": "bf6aca56-435c-4e9a-8d5e-a68085d0e581",
   "metadata": {},
   "outputs": [
    {
     "name": "stdout",
     "output_type": "stream",
     "text": [
      "Hello\n",
      "Lets learn python\n"
     ]
    }
   ],
   "source": [
    "# Open the file in read mode\n",
    "with open(r\"C:\\Users\\bharg\\Downloads\\Hello.txt\", \"r\") as file:\n",
    "    # Read the contents of the file\n",
    "    data = file.read()\n",
    "    # Print the contents\n",
    "    print(data)\n"
   ]
  },
  {
   "cell_type": "markdown",
   "id": "4bc7f5ad-5fbf-4d02-b64a-7ae7f69f9ecf",
   "metadata": {},
   "source": [
    "## Writing Files\n",
    "\n",
    "### Definition:\n",
    "Writing files in Python refers to the process of creating or modifying files on the disk and storing data in them. This data can be generated dynamically within the Python program or processed data that needs to be saved for future use. Python provides built-in functions and methods for writing data to files, allowing you to create, open, write, and close files easily.\n",
    "\n",
    "### Example:\n",
    "In programming, you might need to generate reports, save user data, or store computational results in files. Writing files in Python is like creating these files, formatting the data, and saving it in a structured format for future reference or sharing with others.Imagine you have a notebook where you can write down your own stories or draw pictures. Writing a file in Python is like opening this notebook and filling it with your own stories and drawings. You start with a blank page, write or draw whatever you like, and save it for later.\n"
   ]
  },
  {
   "cell_type": "code",
   "execution_count": 76,
   "id": "163543b1-8ede-4494-a96a-06a546fb152e",
   "metadata": {},
   "outputs": [],
   "source": [
    "# Open a file in write mode\n",
    "with open(r\"C:\\Users\\bharg\\Downloads\\Hello.txt\", \"w\") as file:\n",
    "    # Write text to the file\n",
    "    file.write(\"Hello, world!\\n\")\n",
    "    file.write(\"This is a Python script.\\n\")\n",
    "    file.write(\"Writing data to a file.\\n\")"
   ]
  },
  {
   "cell_type": "code",
   "execution_count": 77,
   "id": "c42e3e1b-b4cd-4ee9-9a3a-66f96a9637d8",
   "metadata": {},
   "outputs": [
    {
     "name": "stdout",
     "output_type": "stream",
     "text": [
      "Contents of the file:\n",
      "Hello, world!\n",
      "This is a Python script.\n",
      "Writing data to a file.\n",
      "\n"
     ]
    }
   ],
   "source": [
    "# Open the file in read mode to print its contents\n",
    "with open(r\"C:\\Users\\bharg\\Downloads\\Hello.txt\", \"r\") as file:\n",
    "    # Read the contents of the file\n",
    "    contents = file.read()\n",
    "\n",
    "    # Print the contents of the file\n",
    "    print(\"Contents of the file:\")\n",
    "    print(contents)"
   ]
  },
  {
   "cell_type": "code",
   "execution_count": 80,
   "id": "75468667-2b55-4622-8cb8-00a8a2ad25e6",
   "metadata": {},
   "outputs": [],
   "source": [
    "# Open a file in append mode\n",
    "with open(r\"C:\\Users\\bharg\\Downloads\\Hello.txt\", \"a\") as file:\n",
    "    # Append text to the file\n",
    "    file.write(\"This is new content.\\n\")"
   ]
  },
  {
   "cell_type": "code",
   "execution_count": 81,
   "id": "ca7241ca-781f-4fdb-91c7-d526791002fd",
   "metadata": {},
   "outputs": [
    {
     "name": "stdout",
     "output_type": "stream",
     "text": [
      "Contents of the file:\n",
      "Hello, world!\n",
      "This is a Python script.\n",
      "Writing data to a file.\n",
      "This is new content.\n",
      "\n"
     ]
    }
   ],
   "source": [
    "# Open the file in read mode to print its contents\n",
    "with open(r\"C:\\Users\\bharg\\Downloads\\Hello.txt\", \"r\") as file:\n",
    "    # Read the contents of the file\n",
    "    contents = file.read()\n",
    "\n",
    "    # Print the contents of the file\n",
    "    print(\"Contents of the file:\")\n",
    "    print(contents)"
   ]
  },
  {
   "cell_type": "markdown",
   "id": "d2dbd5c4-d188-49b3-8de2-a9401672cb9f",
   "metadata": {},
   "source": [
    "### Classes\n",
    "\n",
    "#### Definition:\n",
    "In Python, a class is a blueprint for creating objects. It defines the properties (attributes) and behaviors (methods) that all objects of the class will have. Objects are instances of classes, created based on the class blueprint.\n",
    "\n",
    "#### Example:\n",
    "Classes are used to organize code and create reusable components. For example, a \"User\" class in a web application might define attributes like username and email, and methods like login and logout. Each user of the application is an object created from the \"User\" class, with their own unique data and behavior.\n",
    "Think of a class as a recipe and objects as the cakes you bake using that recipe. The recipe defines what ingredients to use and how to mix them together to create a cake. Similarly, a \"Car\" class can define properties like color and speed, and behaviors like driving and stopping. Each specific car, such as a \"Toyota Corolla\" or \"Ford Mustang,\" is an object created from the \"Car\" class.\n",
    "\n",
    "### Objects\n",
    "\n",
    "#### Definition:\n",
    "In Python, an object is an instance of a class. It represents a unique occurrence of the class blueprint, with its own set of attributes and behaviors. Objects are created based on the class definition and can interact with each other and the program environment.\n",
    "\n",
    "#### Example:\n",
    "Objects represent real-world entities or concepts modeled by classes. For example, in a banking application, each user's bank account is represented by an object of the \"BankAccount\" class. Each account object has its own account number, balance, and methods to deposit or withdraw money.\n",
    "Think of objects as toys you play with, each with its own characteristics and actions. \n",
    "For example, if you have a \"TeddyBear\" class, you can create multiple teddy bear objects, each with a different color and name. You can hug, cuddle, or play with each teddy bear object individually.\n"
   ]
  },
  {
   "cell_type": "code",
   "execution_count": 87,
   "id": "ede0472b-e32a-4659-bced-12712d49b05a",
   "metadata": {},
   "outputs": [
    {
     "name": "stdout",
     "output_type": "stream",
     "text": [
      "Alice\n",
      "30\n"
     ]
    }
   ],
   "source": [
    "#Creating objects of a simple class to represent people.\n",
    "class Person:\n",
    "    def __init__(self, name, age):\n",
    "        self.name = name\n",
    "        self.age = age\n",
    "\n",
    "# Creating objects of the Person class\n",
    "person1 = Person(\"Alice\", 25)\n",
    "person2 = Person(\"Bob\", 30)\n",
    "#lets print person1 name just to show you what it has created\n",
    "print(person1.name)\n",
    "print(person2.age)"
   ]
  },
  {
   "cell_type": "code",
   "execution_count": 89,
   "id": "f7ee96b6-e97b-4360-8b8b-60e1be3ac63c",
   "metadata": {},
   "outputs": [
    {
     "name": "stdout",
     "output_type": "stream",
     "text": [
      "8\n",
      "6\n"
     ]
    }
   ],
   "source": [
    "#Implementing a class to represent a basic calculator.\n",
    "class Calculator:\n",
    "    def add(self, x, y):\n",
    "        return x + y\n",
    "      \n",
    "    def subtract(self, x, y):\n",
    "        return x - y\n",
    "\n",
    "# Creating an object of the Calculator class\n",
    "calculator = Calculator()\n",
    "\n",
    "# Let check the outputs for your understanding\n",
    "print(calculator.add(5, 3))\n",
    "print(calculator.subtract(10, 4))\n"
   ]
  },
  {
   "cell_type": "code",
   "execution_count": 90,
   "id": "fb588b26-2b1d-41eb-a925-527f983d8911",
   "metadata": {},
   "outputs": [
    {
     "name": "stdout",
     "output_type": "stream",
     "text": [
      "1000\n",
      "1500\n",
      "1300\n"
     ]
    }
   ],
   "source": [
    "#Developing a class to model a bank account with deposit and withdrawal methods.\n",
    "class BankAccount:\n",
    "    def __init__(self, account_number, balance=0):\n",
    "        self.account_number = account_number\n",
    "        self.balance = balance\n",
    "      \n",
    "    def deposit(self, amount):\n",
    "        self.balance += amount\n",
    "      \n",
    "    def withdraw(self, amount):\n",
    "        if amount <= self.balance:\n",
    "            self.balance -= amount\n",
    "        else:\n",
    "            print(\"Insufficient funds\")\n",
    "\n",
    "# Creating an object of the BankAccount class\n",
    "account = BankAccount(\"123456\", 1000)\n",
    "\n",
    "# Output:\n",
    "print(account.balance)\n",
    "account.deposit(500)\n",
    "print(account.balance)\n",
    "account.withdraw(200)\n",
    "print(account.balance)"
   ]
  },
  {
   "cell_type": "markdown",
   "id": "13f1ca25-5c90-41c0-8ccb-3e41b3e42e39",
   "metadata": {},
   "source": [
    "### Exception Handling\n",
    "\n",
    "#### Definition:\n",
    "In Python, exception handling is a mechanism used to handle errors or exceptional situations that occur during program execution. It allows developers to gracefully handle errors without crashing the program, by anticipating and responding to potential issues.\n",
    "\n",
    "#### Example:\n",
    "Exception handling is crucial for handling unexpected errors that might occur during program execution. For example, if a file that your program is trying to read doesn't exist, instead of crashing, you can catch the \"FileNotFoundError\" exception and display a friendly error message to the user, allowing them to take appropriate action.\n",
    "Imagine you're playing a game and you accidentally bump into a wall. Instead of falling down and getting hurt, you quickly put your hands out to catch yourself and prevent injury. In programming, exception handling is like anticipating and responding to obstacles or errors that might occur, ensuring the program can continue running smoothly."
   ]
  },
  {
   "cell_type": "code",
   "execution_count": 94,
   "id": "77994366-c8b9-4a19-a887-7d18dcea65ec",
   "metadata": {},
   "outputs": [
    {
     "name": "stdout",
     "output_type": "stream",
     "text": [
      "5.0\n"
     ]
    }
   ],
   "source": [
    "result = 10/2\n",
    "print(result)"
   ]
  },
  {
   "cell_type": "code",
   "execution_count": 92,
   "id": "fae6cfae-37fe-48e4-9911-1620e58d3436",
   "metadata": {},
   "outputs": [
    {
     "ename": "ZeroDivisionError",
     "evalue": "division by zero",
     "output_type": "error",
     "traceback": [
      "\u001b[1;31m---------------------------------------------------------------------------\u001b[0m",
      "\u001b[1;31mZeroDivisionError\u001b[0m                         Traceback (most recent call last)",
      "Cell \u001b[1;32mIn[92], line 1\u001b[0m\n\u001b[1;32m----> 1\u001b[0m result \u001b[38;5;241m=\u001b[39m \u001b[38;5;241m10\u001b[39m \u001b[38;5;241m/\u001b[39m \u001b[38;5;241m0\u001b[39m\n",
      "\u001b[1;31mZeroDivisionError\u001b[0m: division by zero"
     ]
    }
   ],
   "source": [
    "result = 10 / 0"
   ]
  },
  {
   "cell_type": "code",
   "execution_count": 91,
   "id": "2468ef02-64dd-4836-b5dc-24c4eae595b8",
   "metadata": {},
   "outputs": [
    {
     "name": "stdout",
     "output_type": "stream",
     "text": [
      "Error: Division by zero\n"
     ]
    }
   ],
   "source": [
    "#Handling division by zero error.\n",
    "try:\n",
    "    result = 10 / 0\n",
    "except ZeroDivisionError:\n",
    "    print(\"Error: Division by zero\")\n"
   ]
  },
  {
   "cell_type": "code",
   "execution_count": 98,
   "id": "5aff8d2b-2276-403d-bb9d-9b0fd9ff9bed",
   "metadata": {},
   "outputs": [
    {
     "name": "stdout",
     "output_type": "stream",
     "text": [
      "Error: File not found\n"
     ]
    }
   ],
   "source": [
    "# Handling file not found error.\n",
    "try:\n",
    "    with open(\"nonexistent_file.txt\", \"r\") as file:\n",
    "        contents = file.read()\n",
    "except FileNotFoundError:\n",
    "    print(\"Error: File not found\")\n"
   ]
  },
  {
   "cell_type": "code",
   "execution_count": 99,
   "id": "6aaf4977-e248-4321-a8c2-68a887c2958c",
   "metadata": {},
   "outputs": [
    {
     "name": "stdout",
     "output_type": "stream",
     "text": [
      "Error: Division by zero\n"
     ]
    }
   ],
   "source": [
    "#Handling multiple exceptions.\n",
    "try:\n",
    "    result = 10 / 0\n",
    "    with open(\"nonexistent_file.txt\", \"r\") as file:\n",
    "        contents = file.read()\n",
    "except ZeroDivisionError:\n",
    "    print(\"Error: Division by zero\")\n",
    "except FileNotFoundError:\n",
    "    print(\"Error: File not found\")"
   ]
  },
  {
   "cell_type": "markdown",
   "id": "5943bce2-1350-4046-bdef-0df1418975d3",
   "metadata": {},
   "source": [
    "### Modules (pip install)\n",
    "\n",
    "#### Definition:\n",
    "In Python, a module is a file containing Python code. It can define variables, functions, and classes that can be used in other Python programs. Modules provide a way to organize code into reusable components, making it easier to maintain and share code across different projects.\n",
    "\n",
    "#### Example:\n",
    "Modules are used to organize code into logical units and promote code reusability. For example, you might have a \"utilities\" module containing functions for common tasks like file manipulation or data processing. Modules can be installed and managed using package managers like pip, which is the standard package manager for Python.\n",
    "pip install package_name. Think of modules as separate compartments in a toy box, each containing different toys or tools for specific purposes. For example, you might have a \"LEGO\" module with building blocks for constructing various structures, and a \"Barbie\" module with dolls and accessories for imaginative play. In programming, modules are like toolboxes filled with useful functions and tools that you can use in your programs.\n"
   ]
  },
  {
   "cell_type": "code",
   "execution_count": 100,
   "id": "131f581d-aff2-4104-8ee2-004edc300cf1",
   "metadata": {},
   "outputs": [
    {
     "name": "stdout",
     "output_type": "stream",
     "text": [
      "Package                       Version\n",
      "----------------------------- ---------------\n",
      "aiobotocore                   2.7.0\n",
      "aiohttp                       3.9.3\n",
      "aioitertools                  0.7.1\n",
      "aiosignal                     1.2.0\n",
      "alabaster                     0.7.12\n",
      "anaconda-anon-usage           0.4.2\n",
      "anaconda-catalogs             0.2.0\n",
      "anaconda-client               1.12.1\n",
      "anaconda-cloud-auth           0.1.4\n",
      "anaconda-navigator            2.5.0\n",
      "anaconda-project              0.11.1\n",
      "anyio                         4.2.0\n",
      "appdirs                       1.4.4\n",
      "argon2-cffi                   21.3.0\n",
      "argon2-cffi-bindings          21.2.0\n",
      "arrow                         1.2.3\n",
      "astroid                       2.14.2\n",
      "astropy                       5.3.4\n",
      "asttokens                     2.0.5\n",
      "async-lru                     2.0.4\n",
      "atomicwrites                  1.4.0\n",
      "attrs                         23.1.0\n",
      "Automat                       20.2.0\n",
      "autopep8                      2.0.4\n",
      "Babel                         2.11.0\n",
      "backports.functools-lru-cache 1.6.4\n",
      "backports.tempfile            1.0\n",
      "backports.weakref             1.0.post1\n",
      "bcrypt                        3.2.0\n",
      "beautifulsoup4                4.12.2\n",
      "binaryornot                   0.4.4\n",
      "black                         23.11.0\n",
      "bleach                        4.1.0\n",
      "blis                          0.7.11\n",
      "bokeh                         3.3.4\n",
      "boltons                       23.0.0\n",
      "botocore                      1.31.64\n",
      "Bottleneck                    1.3.7\n",
      "Brotli                        1.0.9\n",
      "catalogue                     2.0.10\n",
      "certifi                       2024.2.2\n",
      "cffi                          1.16.0\n",
      "chardet                       4.0.0\n",
      "charset-normalizer            2.0.4\n",
      "click                         8.1.7\n",
      "cloudpathlib                  0.16.0\n",
      "cloudpickle                   2.2.1\n",
      "clyent                        1.2.2\n",
      "colorama                      0.4.6\n",
      "colorcet                      3.0.1\n",
      "comm                          0.1.2\n",
      "conda                         23.7.4\n",
      "conda-build                   3.26.1\n",
      "conda-content-trust           0.2.0\n",
      "conda_index                   0.4.0\n",
      "conda-libmamba-solver         23.7.0\n",
      "conda-pack                    0.6.0\n",
      "conda-package-handling        2.2.0\n",
      "conda_package_streaming       0.9.0\n",
      "conda-repo-cli                1.0.75\n",
      "conda-token                   0.4.0\n",
      "conda-verify                  3.4.2\n",
      "confection                    0.1.4\n",
      "constantly                    23.10.4\n",
      "contourpy                     1.2.0\n",
      "cookiecutter                  2.5.0\n",
      "cryptography                  42.0.2\n",
      "cssselect                     1.2.0\n",
      "cycler                        0.11.0\n",
      "cymem                         2.0.8\n",
      "cytoolz                       0.12.2\n",
      "daal4py                       2023.1.1\n",
      "dask                          2023.11.0\n",
      "datasets                      2.17.1\n",
      "datashader                    0.16.0\n",
      "debugpy                       1.6.7\n",
      "decorator                     5.1.1\n",
      "defusedxml                    0.7.1\n",
      "diff-match-patch              20200713\n",
      "dill                          0.3.8\n",
      "distributed                   2023.11.0\n",
      "docstring-to-markdown         0.11\n",
      "docutils                      0.18.1\n",
      "en-core-web-lg                3.7.1\n",
      "entrypoints                   0.4\n",
      "et-xmlfile                    1.1.0\n",
      "executing                     0.8.3\n",
      "fastjsonschema                2.16.2\n",
      "filelock                      3.13.1\n",
      "flake8                        6.0.0\n",
      "Flask                         2.2.5\n",
      "fonttools                     4.25.0\n",
      "frozenlist                    1.4.0\n",
      "fsspec                        2023.10.0\n",
      "future                        0.18.3\n",
      "gensim                        4.3.0\n",
      "glob2                         0.7\n",
      "gmpy2                         2.1.2\n",
      "greenlet                      3.0.1\n",
      "h5py                          3.9.0\n",
      "HeapDict                      1.0.1\n",
      "holoviews                     1.18.3\n",
      "huggingface-hub               0.20.3\n",
      "hvplot                        0.9.2\n",
      "hyperlink                     21.0.0\n",
      "idna                          3.4\n",
      "imagecodecs                   2023.1.23\n",
      "imageio                       2.33.1\n",
      "imagesize                     1.4.1\n",
      "imbalanced-learn              0.11.0\n",
      "importlib-metadata            7.0.1\n",
      "incremental                   22.10.0\n",
      "inflection                    0.5.1\n",
      "iniconfig                     1.1.1\n",
      "intake                        0.6.8\n",
      "intervaltree                  3.1.0\n",
      "ipykernel                     6.28.0\n",
      "ipython                       8.20.0\n",
      "ipython-genutils              0.2.0\n",
      "ipywidgets                    8.0.4\n",
      "isort                         5.9.3\n",
      "itemadapter                   0.3.0\n",
      "itemloaders                   1.1.0\n",
      "itsdangerous                  2.0.1\n",
      "jaraco.classes                3.2.1\n",
      "jedi                          0.18.1\n",
      "jellyfish                     1.0.1\n",
      "Jinja2                        3.1.3\n",
      "jmespath                      1.0.1\n",
      "joblib                        1.2.0\n",
      "json5                         0.9.6\n",
      "jsonpatch                     1.32\n",
      "jsonpointer                   2.1\n",
      "jsonschema                    4.19.2\n",
      "jsonschema-specifications     2023.7.1\n",
      "jupyter                       1.0.0\n",
      "jupyter_client                8.6.0\n",
      "jupyter-console               6.6.3\n",
      "jupyter_core                  5.5.0\n",
      "jupyter-events                0.8.0\n",
      "jupyter-lsp                   2.2.0\n",
      "jupyter_server                2.10.0\n",
      "jupyter_server_terminals      0.4.4\n",
      "jupyterlab                    4.0.11\n",
      "jupyterlab-pygments           0.1.2\n",
      "jupyterlab_server             2.25.1\n",
      "jupyterlab-widgets            3.0.9\n",
      "kaleido                       0.2.1\n",
      "keyring                       23.13.1\n",
      "kiwisolver                    1.4.4\n",
      "langcodes                     3.3.0\n",
      "lazy_loader                   0.3\n",
      "lazy-object-proxy             1.6.0\n",
      "libarchive-c                  2.9\n",
      "libmambapy                    1.5.6\n",
      "linkify-it-py                 2.0.0\n",
      "llvmlite                      0.42.0\n",
      "lmdb                          1.4.1\n",
      "locket                        1.0.0\n",
      "lxml                          4.9.3\n",
      "lz4                           4.3.2\n",
      "Markdown                      3.4.1\n",
      "markdown-it-py                2.2.0\n",
      "MarkupSafe                    2.1.3\n",
      "matplotlib                    3.8.0\n",
      "matplotlib-inline             0.1.6\n",
      "mccabe                        0.7.0\n",
      "mdit-py-plugins               0.3.0\n",
      "mdurl                         0.1.0\n",
      "menuinst                      1.4.19\n",
      "mistune                       2.0.4\n",
      "mkl-fft                       1.3.8\n",
      "mkl-random                    1.2.4\n",
      "mkl-service                   2.4.0\n",
      "more-itertools                10.1.0\n",
      "mpmath                        1.3.0\n",
      "msgpack                       1.0.3\n",
      "multidict                     6.0.4\n",
      "multipledispatch              0.6.0\n",
      "multiprocess                  0.70.16\n",
      "munkres                       1.1.4\n",
      "murmurhash                    1.0.10\n",
      "mypy-extensions               1.0.0\n",
      "navigator-updater             0.4.0\n",
      "nbclient                      0.8.0\n",
      "nbconvert                     7.10.0\n",
      "nbformat                      5.9.2\n",
      "nest-asyncio                  1.6.0\n",
      "networkx                      3.1\n",
      "nltk                          3.8.1\n",
      "notebook                      7.0.8\n",
      "notebook_shim                 0.2.3\n",
      "numba                         0.59.0\n",
      "numexpr                       2.8.7\n",
      "numpy                         1.26.4\n",
      "numpydoc                      1.5.0\n",
      "openpyxl                      3.0.10\n",
      "overrides                     7.4.0\n",
      "packaging                     23.1\n",
      "pandas                        2.1.4\n",
      "pandocfilters                 1.5.0\n",
      "panel                         1.3.8\n",
      "param                         2.0.2\n",
      "paramiko                      2.8.1\n",
      "parsel                        1.8.1\n",
      "parso                         0.8.3\n",
      "partd                         1.4.1\n",
      "pathlib                       1.0.1\n",
      "pathspec                      0.10.3\n",
      "patsy                         0.5.3\n",
      "pep8                          1.7.1\n",
      "pexpect                       4.8.0\n",
      "pickleshare                   0.7.5\n",
      "pillow                        10.2.0\n",
      "pip                           23.2.1\n",
      "pkce                          1.0.3\n",
      "pkginfo                       1.9.6\n",
      "platformdirs                  3.10.0\n",
      "plotly                        5.19.0\n",
      "pluggy                        1.0.0\n",
      "ply                           3.11\n",
      "preshed                       3.0.9\n",
      "prometheus-client             0.14.1\n",
      "prompt-toolkit                3.0.43\n",
      "Protego                       0.1.16\n",
      "psutil                        5.9.0\n",
      "ptyprocess                    0.7.0\n",
      "pure-eval                     0.2.2\n",
      "py-cpuinfo                    9.0.0\n",
      "pyarrow                       14.0.2\n",
      "pyarrow-hotfix                0.6\n",
      "pyasn1                        0.4.8\n",
      "pyasn1-modules                0.2.8\n",
      "pycodestyle                   2.10.0\n",
      "pycosat                       0.6.6\n",
      "pycparser                     2.21\n",
      "pyct                          0.5.0\n",
      "pycurl                        7.45.2\n",
      "pydantic                      1.10.12\n",
      "PyDispatcher                  2.0.5\n",
      "pydocstyle                    6.3.0\n",
      "pyerfa                        2.0.0\n",
      "pyflakes                      3.0.1\n",
      "Pygments                      2.15.1\n",
      "PyJWT                         2.4.0\n",
      "pylint                        2.16.2\n",
      "pylint-venv                   2.3.0\n",
      "pyls-spyder                   0.4.0\n",
      "PyNaCl                        1.5.0\n",
      "pyodbc                        5.0.1\n",
      "pyOpenSSL                     24.0.0\n",
      "pyparsing                     3.0.9\n",
      "PyQt5                         5.15.10\n",
      "PyQt5-sip                     12.13.0\n",
      "PyQtWebEngine                 5.15.6\n",
      "PySocks                       1.7.1\n",
      "pytest                        7.4.0\n",
      "python-dateutil               2.8.2\n",
      "python-dotenv                 0.21.0\n",
      "python-json-logger            2.0.7\n",
      "python-lsp-black              1.2.1\n",
      "python-lsp-jsonrpc            1.1.2\n",
      "python-lsp-server             1.7.2\n",
      "python-slugify                5.0.2\n",
      "python-snappy                 0.6.1\n",
      "pytoolconfig                  1.2.6\n",
      "pytz                          2023.3.post1\n",
      "pyviz_comms                   3.0.0\n",
      "pywavelets                    1.5.0\n",
      "pywin32                       305.1\n",
      "pywin32-ctypes                0.2.0\n",
      "pywinpty                      2.0.10\n",
      "PyYAML                        6.0.1\n",
      "pyzmq                         25.1.2\n",
      "QDarkStyle                    3.0.2\n",
      "qstylizer                     0.2.2\n",
      "QtAwesome                     1.2.2\n",
      "qtconsole                     5.4.2\n",
      "QtPy                          2.4.1\n",
      "queuelib                      1.6.2\n",
      "referencing                   0.30.2\n",
      "regex                         2023.10.3\n",
      "requests                      2.31.0\n",
      "requests-file                 1.5.1\n",
      "requests-toolbelt             1.0.0\n",
      "rfc3339-validator             0.1.4\n",
      "rfc3986-validator             0.1.1\n",
      "rich                          13.3.5\n",
      "rope                          1.12.0\n",
      "rpds-py                       0.10.6\n",
      "Rtree                         1.0.1\n",
      "ruamel.yaml                   0.17.21\n",
      "ruamel-yaml-conda             0.17.21\n",
      "s3fs                          2023.10.0\n",
      "safetensors                   0.4.2\n",
      "scikit-image                  0.22.0\n",
      "scikit-learn                  1.2.2\n",
      "scikit-learn-intelex          20230426.121932\n",
      "scipy                         1.11.4\n",
      "Scrapy                        2.11.1\n",
      "seaborn                       0.12.2\n",
      "semver                        2.13.0\n",
      "Send2Trash                    1.8.2\n",
      "service-identity              18.1.0\n",
      "setuptools                    68.0.0\n",
      "sip                           6.7.12\n",
      "six                           1.16.0\n",
      "smart-open                    5.2.1\n",
      "sniffio                       1.3.0\n",
      "snowballstemmer               2.2.0\n",
      "sortedcontainers              2.4.0\n",
      "soupsieve                     2.5\n",
      "spacy                         3.7.4\n",
      "spacy-legacy                  3.0.12\n",
      "spacy-loggers                 1.0.5\n",
      "Sphinx                        5.0.2\n",
      "sphinxcontrib-applehelp       1.0.2\n",
      "sphinxcontrib-devhelp         1.0.2\n",
      "sphinxcontrib-htmlhelp        2.0.0\n",
      "sphinxcontrib-jsmath          1.0.1\n",
      "sphinxcontrib-qthelp          1.0.3\n",
      "sphinxcontrib-serializinghtml 1.1.5\n",
      "spyder                        5.4.3\n",
      "spyder-kernels                2.4.4\n",
      "SQLAlchemy                    2.0.25\n",
      "srsly                         2.4.8\n",
      "stack-data                    0.2.0\n",
      "statsmodels                   0.14.0\n",
      "sympy                         1.12\n",
      "tables                        3.9.2\n",
      "tabulate                      0.9.0\n",
      "TBB                           0.2\n",
      "tblib                         1.7.0\n",
      "tenacity                      8.2.2\n",
      "terminado                     0.17.1\n",
      "text-unidecode                1.3\n",
      "textdistance                  4.2.1\n",
      "thinc                         8.2.3\n",
      "threadpoolctl                 2.2.0\n",
      "three-merge                   0.1.1\n",
      "tifffile                      2023.4.12\n",
      "tinycss2                      1.2.1\n",
      "tldextract                    3.2.0\n",
      "tokenizers                    0.15.1\n",
      "toml                          0.10.2\n",
      "tomlkit                       0.11.1\n",
      "toolz                         0.12.0\n",
      "tornado                       6.3.3\n",
      "tqdm                          4.65.0\n",
      "traitlets                     5.7.1\n",
      "transformers                  4.37.2\n",
      "Twisted                       23.10.0\n",
      "twisted-iocpsupport           1.0.2\n",
      "typer                         0.9.0\n",
      "typing_extensions             4.9.0\n",
      "tzdata                        2023.3\n",
      "uc-micro-py                   1.0.1\n",
      "ujson                         5.4.0\n",
      "Unidecode                     1.2.0\n",
      "urllib3                       2.0.7\n",
      "w3lib                         2.1.2\n",
      "wasabi                        1.1.2\n",
      "watchdog                      2.1.6\n",
      "wcwidth                       0.2.5\n",
      "weasel                        0.3.4\n",
      "webencodings                  0.5.1\n",
      "websocket-client              0.58.0\n",
      "Werkzeug                      2.2.3\n",
      "whatthepatch                  1.0.2\n",
      "wheel                         0.38.4\n",
      "widgetsnbextension            4.0.5\n",
      "win-inet-pton                 1.1.0\n",
      "wrapt                         1.14.1\n",
      "xarray                        2023.6.0\n",
      "xlwings                       0.29.1\n",
      "xxhash                        3.4.1\n",
      "xyzservices                   2022.9.0\n",
      "yapf                          0.31.0\n",
      "yarl                          1.9.3\n",
      "zict                          3.0.0\n",
      "zipp                          3.17.0\n",
      "zope.interface                5.4.0\n",
      "zstandard                     0.19.0\n",
      "Note: you may need to restart the kernel to use updated packages.\n"
     ]
    }
   ],
   "source": [
    "pip list"
   ]
  }
 ],
 "metadata": {
  "kernelspec": {
   "display_name": "Python 3 (ipykernel)",
   "language": "python",
   "name": "python3"
  },
  "language_info": {
   "codemirror_mode": {
    "name": "ipython",
    "version": 3
   },
   "file_extension": ".py",
   "mimetype": "text/x-python",
   "name": "python",
   "nbconvert_exporter": "python",
   "pygments_lexer": "ipython3",
   "version": "3.11.5"
  }
 },
 "nbformat": 4,
 "nbformat_minor": 5
}
